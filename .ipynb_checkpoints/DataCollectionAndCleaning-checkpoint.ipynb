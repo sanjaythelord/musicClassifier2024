{
 "cells": [
  {
   "cell_type": "code",
   "execution_count": 1,
   "id": "b9a028e5-5cd8-4ad8-8987-3dc351217d96",
   "metadata": {},
   "outputs": [],
   "source": [
    "import numpy as np  \n",
    "import matplotlib.pyplot as mtp  \n",
    "import pandas as pd"
   ]
  },
  {
   "cell_type": "code",
   "execution_count": 5,
   "id": "a3d009f7-72d7-48b3-aa51-13dab7cd6486",
   "metadata": {},
   "outputs": [],
   "source": [
    "#importing datasets with low_memory set to False\n",
    "# By default, low_memory is set to True, which means Pandas will attempt to read the file in chunks to conserve memory. \n",
    "data_set= pd.read_csv(r'song_db.csv',low_memory = False)"
   ]
  },
  {
   "cell_type": "code",
   "execution_count": null,
   "id": "5247e855-a5c4-4c31-bd17-b4aa3378e5f1",
   "metadata": {},
   "outputs": [],
   "source": []
  }
 ],
 "metadata": {
  "kernelspec": {
   "display_name": "Python 3 (ipykernel)",
   "language": "python",
   "name": "python3"
  },
  "language_info": {
   "codemirror_mode": {
    "name": "ipython",
    "version": 3
   },
   "file_extension": ".py",
   "mimetype": "text/x-python",
   "name": "python",
   "nbconvert_exporter": "python",
   "pygments_lexer": "ipython3",
   "version": "3.12.5"
  }
 },
 "nbformat": 4,
 "nbformat_minor": 5
}
